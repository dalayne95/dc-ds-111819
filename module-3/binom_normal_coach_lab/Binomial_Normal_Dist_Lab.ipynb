{
 "cells": [
  {
   "cell_type": "markdown",
   "metadata": {},
   "source": [
    "__This Lab Should Help Us Know:__\n",
    "\n",
    "- What is the Binomial distribution and where do we use it?\n",
    "\n",
    "- Parameters and properties of the Binomial distribution\n",
    "\n",
    "- Distributions related to the Binomial distribution\n",
    "\n",
    "- What is the Normal (Gaussian) distribution and where do we use it?\n",
    "\n",
    "- Parameters and properties of the Normal distribution\n",
    "\n",
    "- Simulating parameter value changes for statistical distributions\n",
    "\n",
    "- Central Limit Theorem, if time permits\n"
   ]
  },
  {
   "cell_type": "code",
   "execution_count": 1,
   "metadata": {},
   "outputs": [],
   "source": [
    "import seaborn as sns\n",
    "import numpy as np\n",
    "import matplotlib.pyplot as plt"
   ]
  },
  {
   "cell_type": "markdown",
   "metadata": {},
   "source": [
    "# Binomial Distribution\n"
   ]
  },
  {
   "cell_type": "markdown",
   "metadata": {},
   "source": [
    "### Two real-life scenarios:\n",
    "\n",
    "**Scenario 1:** Nathan wants to calculate how many heads he would observe if he flipped a fair coin 15 times for an undergraduate probability class he is taking. \n",
    "\n",
    "**Scenario 2:** The 100-day survival probability (from diagnosis) for a certain disease is 42%. A certain medical center has 97 patients who have been diagnosed with the disease, and Jane (a medical specialist) wonders how many will survive for 100 days beyond their diagnosis.\n",
    "\n",
    "\n",
    "A statistician would consider the trivial exercise of flipping coins for a class to be virtually the same problem as the 100 day survival scenario.  \n",
    "Does this surprise you? \n",
    "\n",
    "The two problems share many features:\n",
    "\n",
    "- First, the outcome (heads/tails, survived/did not survive) are binary in both cases. \n",
    "\n",
    "- Second, a probability is used to describe the chance of an “event”. In the two cases described, these probabilities are fixed (i.e. constant). We know in advance the probability of heads for a fair coin. The probability of surviving past 100 days is stated above as 42%, but usually this probability would not be known. \n",
    "\n",
    "- Finally, we will assume (for now) that the “trials” (i.e. the flips of the coin, the individual patients) are independent from one another. Briefly, independence means that if I know the outcome of some of the coin flips (or patient cases), this provides me no information about the as-of-yet unobserved cases.   \n",
    "Does this seem like a realistic assumption for coin flips? Patients?"
   ]
  },
  {
   "cell_type": "markdown",
   "metadata": {},
   "source": [
    "__More formally, in Binomial Experiments:__\n",
    "\n",
    "1. The experiment consists of a sequence of $n$ identical trials.\n",
    "2. Two outcomes are possible on each trial. We refer to one outcome as a success and the other outcome as a failure.\n",
    "3. The probability of a success, denoted by $p$, does not change from trial to trial.\n",
    "Consequently, the probability of a failure, denoted by $q = (1-p)$, does not change from trial to trial.\n",
    "4. The trials are independent."
   ]
  },
  {
   "cell_type": "markdown",
   "metadata": {},
   "source": [
    "#### Definition of Binomial Distribution\n",
    "\n",
    "For any binomial experiment we can define a random variable $X$ as the number of successes.  \n",
    "The probability distributions of such random variable is called **Binomial Distribution**. \n",
    "&nbsp;\n",
    "\n",
    "A binomial random variable along with its parameter, $n$, only take positive integral values.   \n",
    "The parameter, $p$, however, is a continuous one, lying in the range $0 < p < 1$\n",
    "\n",
    "The probability mass function of $X$ is given as:\n",
    "\n",
    "$$ P[X = x] = \\binom{n}{x}p^x(1-p)^{n-x} $$\n",
    "\n",
    "The expectation (mean) is:\n",
    "$$E[X] = np$$\n",
    "\n",
    "And the variance is:\n",
    "$$Var[X] = np(1-p)$$\n",
    "\n",
    "#### Using python to work with the Binomial Distribution\n",
    "\n",
    "Let's first check the [SciPy documentation for the Binomial Distribution](https://docs.scipy.org/doc/scipy/reference/generated/scipy.stats.binom.html#scipy.stats.binom)\n",
    "\n"
   ]
  },
  {
   "cell_type": "markdown",
   "metadata": {},
   "source": [
    "### Figuring out Nathan's coin flip problem:\n",
    "\n",
    "$n = ?$  \n",
    "$p = ?$\n",
    "\n",
    "We want to know how many heads (successes) will turn up. What does that correspond to solving?"
   ]
  },
  {
   "cell_type": "code",
   "execution_count": 5,
   "metadata": {},
   "outputs": [],
   "source": [
    "from scipy.stats import binom"
   ]
  },
  {
   "cell_type": "code",
   "execution_count": 9,
   "metadata": {},
   "outputs": [
    {
     "data": {
      "text/plain": [
       "7.5"
      ]
     },
     "execution_count": 9,
     "metadata": {},
     "output_type": "execute_result"
    }
   ],
   "source": [
    "n = 15\n",
    "p = 0.5\n",
    "\n",
    "nathans_answer = binom.mean(n=n, p=p, loc=0)\n",
    "\n",
    "nathans_answer"
   ]
  },
  {
   "cell_type": "markdown",
   "metadata": {},
   "source": [
    "What if Nathan wanted to know the probability of 8 heads turning up?"
   ]
  },
  {
   "cell_type": "code",
   "execution_count": 10,
   "metadata": {},
   "outputs": [
    {
     "data": {
      "text/plain": [
       "0.1963806152343757"
      ]
     },
     "execution_count": 10,
     "metadata": {},
     "output_type": "execute_result"
    }
   ],
   "source": [
    "heads_8 = binom.pmf(k = 8, n = n, p = p)\n",
    "heads_8"
   ]
  },
  {
   "cell_type": "markdown",
   "metadata": {},
   "source": [
    "Does that surpise you? Why is it not a higher value?  \n",
    "Let's plot and find out."
   ]
  },
  {
   "cell_type": "code",
   "execution_count": 12,
   "metadata": {},
   "outputs": [
    {
     "data": {
      "image/png": "[encoded data removed]",
      "text/plain": [
       "<Figure size 432x288 with 1 Axes>"
      ]
     },
     "metadata": {
      "needs_background": "light"
     },
     "output_type": "display_data"
    }
   ],
   "source": [
    "fig, ax = plt.subplots(1, 1)\n",
    "x = np.arange(binom.ppf(q = 0, n = n, p = p),\n",
    "               binom.ppf(q = 1, n = n, p = p))\n",
    "ax.plot(x, binom.pmf(k = x, n = n, p = p), 'bo', ms = 8, label = 'binom pmf')\n",
    "ax.vlines(x, 0, binom.pmf(k = x, n = n , p = p), colors = 'b', lw = 5, alpha = 0.5)\n",
    "plt.xlabel(\"Number of Heads\")\n",
    "plt.ylabel(\"PMF\")\n",
    "plt.title(\"Getting Heads on 15 Flips of a Fair Coin\")\n",
    "plt.show()"
   ]
  },
  {
   "cell_type": "markdown",
   "metadata": {},
   "source": [
    "This figure provides some clarity.   \n",
    "We can use a different method to get similar information:"
   ]
  },
  {
   "cell_type": "code",
   "execution_count": 23,
   "metadata": {},
   "outputs": [],
   "source": [
    "data_binom = np.random.binomial(n, p, 10000) # ---> Note that we are using NumPy here. Why?\n",
    "# numpy is generating random data   "
   ]
  },
  {
   "cell_type": "code",
   "execution_count": 24,
   "metadata": {},
   "outputs": [
    {
     "data": {
      "image/png": "[encoded data removed]",
      "text/plain": [
       "<Figure size 432x288 with 1 Axes>"
      ]
     },
     "metadata": {
      "needs_background": "light"
     },
     "output_type": "display_data"
    }
   ],
   "source": [
    "ax = sns.distplot(data_binom,\n",
    "                  kde=False, # ---> what is this?\n",
    "                  color='skyblue',\n",
    "                  hist_kws={\"linewidth\": 15,'alpha':1})\n",
    "ax.set(xlabel='Number of Heads', ylabel='Frequency')\n",
    "plt.title(\"Getting Heads on 15 Flips of a Fair Coin 10000 Times\")\n",
    "plt.show()"
   ]
  },
  {
   "cell_type": "markdown",
   "metadata": {},
   "source": [
    "What if Nathan wants to know the probability of getting at most 9 heads?  \n",
    "We will need to use the cumulative distribution function."
   ]
  },
  {
   "cell_type": "code",
   "execution_count": 25,
   "metadata": {},
   "outputs": [
    {
     "data": {
      "text/plain": [
       "0.8491210937499999"
      ]
     },
     "execution_count": 25,
     "metadata": {},
     "output_type": "execute_result"
    }
   ],
   "source": [
    "at_most_9 = binom.cdf(k = 9, n = n, p = p)\n",
    "at_most_9"
   ]
  },
  {
   "cell_type": "code",
   "execution_count": 27,
   "metadata": {},
   "outputs": [
    {
     "data": {
      "image/png": "[encoded data removed]",
      "text/plain": [
       "<Figure size 432x288 with 1 Axes>"
      ]
     },
     "metadata": {
      "needs_background": "light"
     },
     "output_type": "display_data"
    }
   ],
   "source": [
    "fig, ax = plt.subplots(1, 1)\n",
    "x = np.arange(binom.ppf(q = 0, n = n, p = p),\n",
    "               binom.ppf(q = 1, n = n, p = p))\n",
    "ax.plot(x, binom.cdf(k = x, n = n, p = p), 'bo', ms=8, label='binom pmf')\n",
    "ax.vlines(x, 0, binom.cdf(k = x, n = n, p = p), colors='b', lw=5, alpha=0.5)\n",
    "plt.xlabel(\"Number of Heads\")\n",
    "plt.ylabel(\"CDF\")\n",
    "plt.title(\"CDF of Getting Heads on 15 Flips of a Fair Coin\")\n",
    "plt.show()"
   ]
  },
  {
   "cell_type": "markdown",
   "metadata": {},
   "source": [
    "Now, help Jane find the probability that at least 35 patients will survive for 100 days.\n",
    "\n",
    "Recall that:\n",
    "$P[X \\geq x] = 1 - P[X \\leq x]$"
   ]
  },
  {
   "cell_type": "code",
   "execution_count": 40,
   "metadata": {},
   "outputs": [
    {
     "data": {
      "text/plain": [
       "0.9011444913064495"
      ]
     },
     "execution_count": 40,
     "metadata": {},
     "output_type": "execute_result"
    }
   ],
   "source": [
    "janes_answer = 1 -binom.cdf(k = 34, n = 97, p = 0.42)\n",
    "janes_answer"
   ]
  },
  {
   "cell_type": "markdown",
   "metadata": {},
   "source": [
    "We will check this using a CDF plot."
   ]
  },
  {
   "cell_type": "code",
   "execution_count": 41,
   "metadata": {},
   "outputs": [
    {
     "data": {
      "image/png": "[encoded data removed]",
      "text/plain": [
       "<Figure size 432x288 with 1 Axes>"
      ]
     },
     "metadata": {
      "needs_background": "light"
     },
     "output_type": "display_data"
    }
   ],
   "source": [
    "n = 97\n",
    "p = 0.42\n",
    "fig, ax = plt.subplots(1, 1)\n",
    "x = np.arange(binom.ppf(0.00001, n, p),\n",
    "               binom.ppf(0.999999, n, p))\n",
    "ax.plot(x,  binom.cdf(k = x, n = n, p = p), 'bo', ms=8, label='binom pmf')\n",
    "ax.vlines(x, 0, binom.cdf(k = x, n = n, p = p), colors='b', lw=5, alpha=0.5)\n",
    "plt.xlabel(\"Number of Patients Survived\")\n",
    "plt.ylabel(\"CDF\")\n",
    "plt.title(\"CDF of 100-Day Survival Probabilities of 97 Patients\")\n",
    "plt.show()"
   ]
  },
  {
   "cell_type": "code",
   "execution_count": 43,
   "metadata": {},
   "outputs": [
    {
     "data": {
      "image/png": "[encoded data removed]",
      "text/plain": [
       "<Figure size 432x288 with 1 Axes>"
      ]
     },
     "metadata": {
      "needs_background": "light"
     },
     "output_type": "display_data"
    }
   ],
   "source": [
    "n = 97\n",
    "p = 0.42\n",
    "\n",
    "fig, ax = plt.subplots(1, 1)\n",
    "x = np.arange(binom.ppf(q = 0.00001, n = n, p = p),\n",
    "               binom.ppf(q = 0.99999, n = n, p = p))\n",
    "ax.plot(x, binom.pmf(k = x, n = n, p = p), 'bo', ms=8, label='binom pmf')\n",
    "ax.vlines(x, 0, binom.pmf(k = x, n = n, p = p), colors='b', lw=5, alpha=0.5)\n",
    "plt.xlabel(\"Number of Patients Survived\")\n",
    "plt.ylabel(\"PMF\")\n",
    "plt.title(\"100-Day Survival Probabilities of 97 Patients\")\n",
    "plt.show()"
   ]
  },
  {
   "cell_type": "code",
   "execution_count": null,
   "metadata": {},
   "outputs": [],
   "source": []
  },
  {
   "cell_type": "markdown",
   "metadata": {},
   "source": [
    "## Distributions related to the Binomial Distribution:\n",
    "\n",
    "- **Bernoulli** - When there is only one trial, for e.g., only one flip of a coin.  \n",
    "- **Multinomial** - When we have multiple possible outcomes with different probabilities of success associated with each, drawn _with_ replacement, for e.g., drawing balls of different colors from an urn with replacement.  \n",
    "- **Hypergeometric** - When we have multiple possible outcomes with different probabilities of success associated with each, drawn _without_ replacement, for e.g., drawing balls of different colors from an urn without replacement.  \n",
    "- **Poisson** - The Binomial distribution can be approximated by the Poisson distribution when $n \\rightarrow \\infty$ and $\\lambda = np$ \n",
    "- **Normal** - The Binomial distribution can be approximated by the Normal distribution under very particular circumstances; this was useful when probabilities were calculated by hand, which is no longer an issue.  "
   ]
  },
  {
   "cell_type": "markdown",
   "metadata": {},
   "source": [
    "## Normal Distribution\n",
    "\n",
    "<img src=\"img/bell_shape.png\" width=\"650\">\n",
    "\n",
    "&nbsp;\n",
    "&nbsp; \n",
    "\n",
    "The Normal Distribution is one of the most important continuous probability distributions.   \n",
    "\n",
    "**Why is it so popular?**  \n",
    "Because several natural phenomena exhibit normality - heights and weights of people, test scores, scientific measurements, amounts of rainfall, etc.   \n",
    "Not only this, one of the most useful applications of the Normal Distribution arises due to the **Central Limit Theorem**, making this distribution extremely important for statisticians and data scientists alike. \n",
    "\n",
    "\n",
    "The Gaussian random variable takes in all real-values, thus, its mean $\\mu$ can also be any real-number.  \n",
    "The standard-deviation $\\sigma$, by definition, is a positive real number. \n",
    "That is, $-\\infty < \\mu < \\infty $ and $ \\sigma > 0 $\n",
    "\n",
    "The Normal probability density function is given by:\n",
    "\n",
    "$$ P[X = x] = \\frac{1}{\\sigma\\sqrt{2\\pi}}e^{\\frac{-(x - \\mu)^2}{2\\sigma^2}} $$\n",
    "\n",
    "The expectation (mean) is:\n",
    "$$E[X] = \\mu$$\n",
    "\n",
    "And the variance is:\n",
    "$$Var[X] = \\sigma^2$$"
   ]
  },
  {
   "cell_type": "markdown",
   "metadata": {},
   "source": [
    "### Some Nice Properties of the Normal Distribution:\n",
    "\n",
    "- The entire family of normal distributions is differentiated by two parameters: the mean $\\mu$ and the standard deviation $\\sigma$.\n",
    "\n",
    "- The mean, median, and the mode are the same value for any Gaussian random variable, found at the highest peak of the curve. This is due to the symmetric nature of the distribution.\n",
    "\n",
    "- Normally distributed variables have 0 skew. \n",
    "\n",
    "- Empirical Law: \n",
    "\n",
    "    - Around 68% of the observations fall within one standard deviation of the mean, that is, between $ (\\mu + \\sigma) $ and $ (\\mu - \\sigma) $ .\n",
    "    \n",
    "    - Around 95% of the values fall within two standard deviations of the mean, that is, between $(\\mu + 2\\sigma)$ and $(\\mu - 2\\sigma)$ .\n",
    "    \n",
    "    - Around 99.7% of the values fall within three standard deviations of the mean, that is, between $(\\mu + 3\\sigma)$ and $(\\mu - 3\\sigma)$ .  \n",
    "    \n",
    "    - Thus, for a Normal distribution, almost all values lie within three standard deviations of the mean.   \n",
    "    The six-sigma methodology is based exactly on this property.\n",
    "    \n",
    "- Standard deviation determines the 'steepness' of the distribution.\n",
    "\n",
    "- The Standard Normal Distribution is a \"squeezed\" version of the Normal distribution, whose values have the mean subtracted and are divided by the standard deviation to obtain $\\mu = 0$ and $\\sigma^2 = 1$, by standardizing, we remove the SI unit of the random variable. \n",
    "\n",
    "Historically, transforming Gaussian distributed random variables to the standard Gaussian Distribution was the only way to obtain probabilities. Since there are an infinite number of members of the Gaussian family, tabulating all of the distributions is futile. We will momentarily see a transformation that centers the normal distribution at 0 and scales it to have variance 1. Since the transformation is applicable to any normally distributed random variable, this allowed people to create a single table of probabilities that could be used on any normal distribution. \n",
    "\n",
    "\n",
    "Consider the following example of IQ-scores:\n",
    "\n",
    "\n",
    "<img src=\"img/iq_score.png\" width=\"650\">"
   ]
  },
  {
   "cell_type": "markdown",
   "metadata": {},
   "source": [
    "### Understanding the parameters better\n",
    "\n",
    "The mean $\\mu$ is known as the location parameter, and  \n",
    "The variance $\\sigma^2$ is known as the scale parameter.  \n",
    "Why are they called so?\n",
    "\n",
    "This is an excellent (and fun!) [resource](https://seeing-theory.brown.edu/probability-distributions/index.html\n",
    ") to improve our understanding of several statistical distributions. We will focus on the Normal distribution.\n",
    "\n",
    "(Location and scale parameters are not unique to the Gaussian random variable.)"
   ]
  },
  {
   "cell_type": "markdown",
   "metadata": {},
   "source": [
    "### Calculating Probabilities for the Normal Distribution\n",
    "\n",
    "As for any continuous variable, if we want to find the probabilities coming from a normally distributed random variable $ Z $, we should calculate the area under the curve. Let's discuss the following cases:\n",
    "\n",
    "In this example, we have a normal distribution with $\\mu = 0$ and $\\sigma = 1$. Here the area gives the probability that the random variable $Z$ is between $-0.5$ and $1.25$.\n",
    "\n",
    "<img src=\"img/pdf_normal.png\" width=\"650\">\n",
    "\n",
    "\n",
    "In this case, the shaded area gives the probability of $Z$ values that are smaller than $1$.\n",
    "<img src=\"img/cdf_normal.png\" width=\"650\">\n",
    "\n",
    "Using a similar method we can also easily find the probability of obtaining a $Z$-value of at least $1.58$.\n",
    "\n",
    "<img src=\"img/normal_tail.png\" width=\"650\">"
   ]
  },
  {
   "cell_type": "markdown",
   "metadata": {},
   "source": [
    "We see several differences between the way probabilities are calculated for discrete versus continuous distributions.   \n",
    "However, using SciPy, the process of calculating probabilities is almost the same as that for the Binomial distribution!  "
   ]
  },
  {
   "cell_type": "markdown",
   "metadata": {},
   "source": [
    "### A Very \"Normal\" Example\n",
    "\n",
    "Consider the example where the heights of American women aged 18 to 24 is approximately normally distributed with mean 65.5 inches and standard deviation 2.5 inches (Moore and McCabe). What is the probability of finding women belonging to this age group whose heights are greater than 68 inches?"
   ]
  },
  {
   "cell_type": "code",
   "execution_count": 44,
   "metadata": {},
   "outputs": [],
   "source": [
    "from scipy.stats import norm"
   ]
  },
  {
   "cell_type": "markdown",
   "metadata": {},
   "source": [
    "[SciPy documentation for Normal Distribution](https://docs.scipy.org/doc/scipy/reference/generated/scipy.stats.norm.html)"
   ]
  },
  {
   "cell_type": "code",
   "execution_count": 48,
   "metadata": {},
   "outputs": [
    {
     "data": {
      "text/plain": [
       "0.15865525393145707"
      ]
     },
     "execution_count": 48,
     "metadata": {},
     "output_type": "execute_result"
    }
   ],
   "source": [
    "mean = 65.5\n",
    "std = 2.5\n",
    "heights_68 = 1 - norm.cdf(68, loc = mean, scale = std)\n",
    "heights_68"
   ]
  },
  {
   "cell_type": "markdown",
   "metadata": {},
   "source": [
    "Let's take a look at the distribution of heights:"
   ]
  },
  {
   "cell_type": "code",
   "execution_count": 49,
   "metadata": {},
   "outputs": [
    {
     "data": {
      "image/png": "[encoded data removed]",
      "text/plain": [
       "<Figure size 432x288 with 1 Axes>"
      ]
     },
     "metadata": {
      "needs_background": "light"
     },
     "output_type": "display_data"
    }
   ],
   "source": [
    "x = np.linspace(norm.ppf(0.0001, loc = mean, scale = std),\n",
    "               norm.ppf(0.9999, loc = mean, scale = std))\n",
    "\n",
    "fig, ax = plt.subplots(1, 1)\n",
    "ax.plot(x, norm.pdf(x, loc = mean, scale = std), 'r-', ms=8, label='normal pdf')\n",
    "plt.xlabel(\"Height in Inches\")\n",
    "plt.ylabel(\"PDF\")\n",
    "plt.title(\"Distribution of Heights of American Women Aged 18 to 24\")\n",
    "plt.show()"
   ]
  },
  {
   "cell_type": "markdown",
   "metadata": {},
   "source": [
    "#### How does symmetry matter?\n",
    "\n",
    "Find the probabilites (pdf) of the following for the heights in our example above:\n",
    "\n",
    "1. $62.5$ inches\n",
    "2. $68.5$ inches"
   ]
  },
  {
   "cell_type": "code",
   "execution_count": 58,
   "metadata": {},
   "outputs": [
    {
     "name": "stdout",
     "output_type": "stream",
     "text": [
      "0.0776744219932852\n",
      "0.0776744219932852\n"
     ]
    }
   ],
   "source": [
    "height_625 = norm.pdf(62.5, loc = mean, scale = std)\n",
    "height_685 = norm.pdf(68.5, loc = mean, scale = std)\n",
    "\n",
    "print(height_625)\n",
    "print(height_685)"
   ]
  },
  {
   "cell_type": "code",
   "execution_count": null,
   "metadata": {},
   "outputs": [],
   "source": []
  },
  {
   "cell_type": "code",
   "execution_count": null,
   "metadata": {},
   "outputs": [],
   "source": []
  },
  {
   "cell_type": "markdown",
   "metadata": {},
   "source": [
    "### Aside - The Central Limit Theorem\n",
    "\n",
    "![probgif](./img/probability-basics.gif)"
   ]
  },
  {
   "cell_type": "markdown",
   "metadata": {},
   "source": [
    "You will learn in greater detail about sampling distributions and the CLT in future lectures!"
   ]
  },
  {
   "cell_type": "code",
   "execution_count": null,
   "metadata": {},
   "outputs": [],
   "source": []
  }
 ],
 "metadata": {
  "kernelspec": {
   "display_name": "Python 3",
   "language": "python",
   "name": "python3"
  },
  "language_info": {
   "codemirror_mode": {
    "name": "ipython",
    "version": 3
   },
   "file_extension": ".py",
   "mimetype": "text/x-python",
   "name": "python",
   "nbconvert_exporter": "python",
   "pygments_lexer": "ipython3",
   "version": "3.7.5"
  }
 },
 "nbformat": 4,
 "nbformat_minor": 4
}
