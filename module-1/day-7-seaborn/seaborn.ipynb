{
 "cells": [
  {
   "cell_type": "markdown",
   "metadata": {},
   "source": [
    "![seaborn](https://d2h0cx97tjks2p.cloudfront.net/blogs/wp-content/uploads/sites/2/2018/07/seaborn.png) \n",
    "# The good, the bad, the seaborn\n",
    "\n",
    "\n",
    "#### Whats wrong with this data visualization? (hint: so many things)\n",
    "\n",
    "<img src=\"https://pbs.twimg.com/media/DNTFhGaXcAEbrMO.jpg\" width=800>\n",
    "\n",
    "Learning goals:\n",
    "- Create a list of best practices for data visualization\n",
    "- Identify the differences between matplotlib and seaborn\n",
    "- Create a visualization with seaborn, applying best practices"
   ]
  },
  {
   "cell_type": "markdown",
   "metadata": {},
   "source": [
    "## Goal 1: Create a list of best practices for data visualization\n",
    "\n",
    "Documenting best practices:\n",
    "\n",
    "In groups:\n",
    "- Group 1: [article 1](https://www.jackhagley.com/What-s-the-difference-between-an-Infographic-and-a-Data-Visualisation)\n",
    "- Group 2: [article 2](https://thoughtbot.com/blog/analyzing-minards-visualization-of-napoleons-1812-march)\n",
    "- Group 3: [article 3](http://dataremixed.com/2016/04/the-design-of-everyday-visualizations/)\n",
    "- Group 4: [article 4](https://visme.co/blog/data-storytelling-tips/)\n",
    "- Group 5: [article 5](https://www.tableau.com/learn/articles/best-beautiful-data-visualization-examples)\n",
    "- Group 6: [article 6](files/VisualizationsThatReallyWork.pdf)\n",
    "\n",
    "To fill in: [Best practices deck](https://docs.google.com/presentation/d/1EmHXyT_zkuPxFfMTBMjrryXkbmgWNbDq1tgvB0EKI04/edit?usp=sharing) "
   ]
  },
  {
   "cell_type": "markdown",
   "metadata": {},
   "source": [
    "## Goal 2:  Identify differences between seaborn & matplotlib\n",
    "\n",
    "\n",
    "### Two code examples to accomplish the same plot:\n",
    "\n",
    "**Resources:**\n",
    "- [python graph gallery on seaborn](https://python-graph-gallery.com/seaborn/)\n",
    "- [seaborn](https://seaborn.pydata.org/)\n"
   ]
  },
  {
   "cell_type": "code",
   "execution_count": 1,
   "metadata": {},
   "outputs": [],
   "source": [
    "import matplotlib.pyplot as plt\n",
    "import pandas as pd\n",
    "import seaborn as sns\n",
    "%matplotlib inline\n",
    "\n",
    "# Load in data\n",
    "tips = pd.read_csv(\"https://raw.githubusercontent.com/mwaskom/seaborn-data/master/tips.csv\")\n"
   ]
  },
  {
   "cell_type": "code",
   "execution_count": 2,
   "metadata": {},
   "outputs": [
    {
     "data": {
      "image/png": "[encoded data removed]",
      "text/plain": [
       "<Figure size 432x288 with 1 Axes>"
      ]
     },
     "metadata": {
      "needs_background": "light"
     },
     "output_type": "display_data"
    }
   ],
   "source": [
    "# Matplotlib:\n",
    "\n",
    "# Initialize Figure and Axes object\n",
    "fig, ax = plt.subplots()\n",
    "\n",
    "# Create violinplot\n",
    "ax.violinplot(tips[\"total_bill\"], vert=False)\n",
    "\n",
    "# Show the plot\n",
    "plt.show()\n",
    "# smoothing - kernel density estimator "
   ]
  },
  {
   "cell_type": "code",
   "execution_count": 3,
   "metadata": {},
   "outputs": [
    {
     "data": {
      "image/png": "[encoded data removed]",
      "text/plain": [
       "<Figure size 432x288 with 1 Axes>"
      ]
     },
     "metadata": {
      "needs_background": "light"
     },
     "output_type": "display_data"
    }
   ],
   "source": [
    "# Seaborn:\n",
    "\n",
    "import matplotlib.pyplot as plt\n",
    "import seaborn as sns\n",
    "\n",
    "# Load the data\n",
    "tips = sns.load_dataset(\"tips\")\n",
    "# tips = pd.read_csv(\"https://raw.githubusercontent.com/mwaskom/seaborn-data/master/tips.csv\")\n",
    "\n",
    "# Create violinplot\n",
    "\n",
    "sns.violinplot(x = \"total_bill\", data=tips)\n",
    "\n",
    "# Show the plot\n",
    "plt.show()\n",
    "\n",
    "# seaborn plot eliminates the bad y axis labels \n",
    "# box and whisker plot; box shows the median and iqr; whiskers show 1.5x the iqr on right which shows outliers"
   ]
  },
  {
   "cell_type": "markdown",
   "metadata": {},
   "source": [
    "### In depth comparison:\n",
    "\n",
    "#### Groups 1:3\n",
    "\n",
    "For each plot:\n",
    "- How is the code to create it different from the maplotlib code?\n",
    "- What are the customization options? \n",
    "- What are the top 3 most important customization options to know(with code) ?\n",
    "\n",
    "Group 1 - [histograms](https://python-graph-gallery.com/histogram/)<br>\n",
    "Group 2 - [scatter plot](https://python-graph-gallery.com/scatter-plot/)<br>\n",
    "Group 3 - [boxplot](http://python-graph-gallery.com/boxplot/)<br>\n",
    "\n",
    "#### Groups 4:5\n",
    "- What new vocabulary was introduced in these posts?\n",
    "- What is the benefit of these new options?\n",
    "- What code/options do you need to know? \n",
    "\n",
    "Group 4 - [diverging, sequential, discrete color palattes](https://python-graph-gallery.com/101-make-a-color-palette-with-seaborn/)<br>\n",
    "Group 5 - [seaborn themes](https://python-graph-gallery.com/104-seaborn-themes/) <br>\n",
    "\n",
    "_Time to work:_ 10 minutes <br>\n",
    "_Time to discuss as large group:_ 10 minutes\n",
    "\n",
    "#### Group 6\n",
    "[seaborn themes w matplotlib](https://python-graph-gallery.com/106-seaborn-style-on-matplotlib-plot/) How does this work?"
   ]
  },
  {
   "cell_type": "markdown",
   "metadata": {},
   "source": [
    "## Goal 3: Create a visualization with seaborn, applying best practices\n",
    "\n",
    "[exercise from data world](https://data.world/makeovermonday/2018w37-paying-the-president)\n"
   ]
  },
  {
   "cell_type": "code",
   "execution_count": 4,
   "metadata": {},
   "outputs": [],
   "source": [
    "import pandas as pd\n",
    "df = pd.read_excel('https://query.data.world/s/5qxp2ldwsel3ow2pq5mkvfas2rfaup')\n"
   ]
  },
  {
   "cell_type": "code",
   "execution_count": 8,
   "metadata": {
    "scrolled": true
   },
   "outputs": [
    {
     "data": {
      "text/html": [
       "<div>\n",
       "<style scoped>\n",
       "    .dataframe tbody tr th:only-of-type {\n",
       "        vertical-align: middle;\n",
       "    }\n",
       "\n",
       "    .dataframe tbody tr th {\n",
       "        vertical-align: top;\n",
       "    }\n",
       "\n",
       "    .dataframe thead th {\n",
       "        text-align: right;\n",
       "    }\n",
       "</style>\n",
       "<table border=\"1\" class=\"dataframe\">\n",
       "  <thead>\n",
       "    <tr style=\"text-align: right;\">\n",
       "      <th></th>\n",
       "      <th>type</th>\n",
       "      <th>source</th>\n",
       "      <th>date</th>\n",
       "      <th>amount</th>\n",
       "      <th>purpose_scrubbed</th>\n",
       "      <th>property_scrubbed</th>\n",
       "      <th>purpose</th>\n",
       "      <th>property</th>\n",
       "      <th>city</th>\n",
       "      <th>state</th>\n",
       "    </tr>\n",
       "  </thead>\n",
       "  <tbody>\n",
       "    <tr>\n",
       "      <th>0</th>\n",
       "      <td>FEC</td>\n",
       "      <td>Donald J. Trump for President, Inc.</td>\n",
       "      <td>Apr 1, 2016</td>\n",
       "      <td>9000.00</td>\n",
       "      <td>Rent</td>\n",
       "      <td>Trump Plaza LLC</td>\n",
       "      <td>RENT</td>\n",
       "      <td>TRUMP PLAZA LLC</td>\n",
       "      <td>New York</td>\n",
       "      <td>NY</td>\n",
       "    </tr>\n",
       "    <tr>\n",
       "      <th>1</th>\n",
       "      <td>FEC</td>\n",
       "      <td>Donald J. Trump for President, Inc.</td>\n",
       "      <td>Apr 1, 2016</td>\n",
       "      <td>6000.00</td>\n",
       "      <td>Rent</td>\n",
       "      <td>Trump CPS LLC</td>\n",
       "      <td>RENT</td>\n",
       "      <td>TRUMP CPS LLC</td>\n",
       "      <td>New York</td>\n",
       "      <td>NY</td>\n",
       "    </tr>\n",
       "    <tr>\n",
       "      <th>2</th>\n",
       "      <td>FEC</td>\n",
       "      <td>Donald J. Trump for President, Inc.</td>\n",
       "      <td>Apr 1, 2017</td>\n",
       "      <td>39816.67</td>\n",
       "      <td>Rent</td>\n",
       "      <td>Trump Tower Commercial LLC</td>\n",
       "      <td>RENT</td>\n",
       "      <td>TRUMP TOWER COMMERCIAL LLC</td>\n",
       "      <td>Hicksville</td>\n",
       "      <td>NY</td>\n",
       "    </tr>\n",
       "    <tr>\n",
       "      <th>3</th>\n",
       "      <td>FEC</td>\n",
       "      <td>Donald J. Trump for President, Inc.</td>\n",
       "      <td>Apr 1, 2017</td>\n",
       "      <td>1000.00</td>\n",
       "      <td>Rent</td>\n",
       "      <td>Trump Restaurants LLC</td>\n",
       "      <td>RENT</td>\n",
       "      <td>TRUMP RESTAURANTS LLC</td>\n",
       "      <td>New York</td>\n",
       "      <td>NY</td>\n",
       "    </tr>\n",
       "    <tr>\n",
       "      <th>4</th>\n",
       "      <td>government</td>\n",
       "      <td>Department of Defense</td>\n",
       "      <td>Apr 10, 2017</td>\n",
       "      <td>1422.00</td>\n",
       "      <td>Lodging</td>\n",
       "      <td>Trump Hotel Panama</td>\n",
       "      <td>Hotels-Lodging</td>\n",
       "      <td>Trump International Hotel &amp; Tower Panama</td>\n",
       "      <td>Panama City</td>\n",
       "      <td>Panama</td>\n",
       "    </tr>\n",
       "    <tr>\n",
       "      <th>5</th>\n",
       "      <td>FEC</td>\n",
       "      <td>Donald J. Trump for President, Inc.</td>\n",
       "      <td>Apr 10, 2017</td>\n",
       "      <td>452.28</td>\n",
       "      <td>Lodging</td>\n",
       "      <td>Trump Hotel D.C</td>\n",
       "      <td>AMEX: TRAVEL: LODGING [SB23.728561]</td>\n",
       "      <td>TRUMP INTERNATIONAL HOTEL</td>\n",
       "      <td>Washington</td>\n",
       "      <td>DC</td>\n",
       "    </tr>\n",
       "    <tr>\n",
       "      <th>6</th>\n",
       "      <td>government</td>\n",
       "      <td>Department of Commerce</td>\n",
       "      <td>Apr 10, 2017</td>\n",
       "      <td>242.00</td>\n",
       "      <td>Lodging</td>\n",
       "      <td>Trump Hotel D.C.</td>\n",
       "      <td>Hotels-Lodging</td>\n",
       "      <td>Trump International Hotel Washington, D.C.</td>\n",
       "      <td>Washington</td>\n",
       "      <td>DC</td>\n",
       "    </tr>\n",
       "    <tr>\n",
       "      <th>7</th>\n",
       "      <td>government</td>\n",
       "      <td>Department of Commerce</td>\n",
       "      <td>Apr 10, 2017</td>\n",
       "      <td>120.10</td>\n",
       "      <td>Food</td>\n",
       "      <td>Trump Hotel D.C.</td>\n",
       "      <td>BLT Dinner</td>\n",
       "      <td>Trump International Hotel Washington, D.C.</td>\n",
       "      <td>Washington</td>\n",
       "      <td>DC</td>\n",
       "    </tr>\n",
       "    <tr>\n",
       "      <th>8</th>\n",
       "      <td>government</td>\n",
       "      <td>Department of Commerce</td>\n",
       "      <td>Apr 10, 2017</td>\n",
       "      <td>56.00</td>\n",
       "      <td>Other</td>\n",
       "      <td>Trump Hotel D.C.</td>\n",
       "      <td>Valet Parking</td>\n",
       "      <td>Trump International Hotel Washington, D.C.</td>\n",
       "      <td>Washington</td>\n",
       "      <td>DC</td>\n",
       "    </tr>\n",
       "    <tr>\n",
       "      <th>9</th>\n",
       "      <td>government</td>\n",
       "      <td>Department of Commerce</td>\n",
       "      <td>Apr 10, 2017</td>\n",
       "      <td>35.09</td>\n",
       "      <td>Other</td>\n",
       "      <td>Trump Hotel D.C.</td>\n",
       "      <td>DC Occupancy Sales Tax</td>\n",
       "      <td>Trump International Hotel Washington, D.C.</td>\n",
       "      <td>Washington</td>\n",
       "      <td>DC</td>\n",
       "    </tr>\n",
       "    <tr>\n",
       "      <th>10</th>\n",
       "      <td>government</td>\n",
       "      <td>Department of Commerce</td>\n",
       "      <td>Apr 10, 2018</td>\n",
       "      <td>41.96</td>\n",
       "      <td>Other</td>\n",
       "      <td>Trump Hotel D.C.</td>\n",
       "      <td>In Room Dining Late Night</td>\n",
       "      <td>Trump International Hotel Washington, D.C.</td>\n",
       "      <td>Washington</td>\n",
       "      <td>DC</td>\n",
       "    </tr>\n",
       "    <tr>\n",
       "      <th>11</th>\n",
       "      <td>government</td>\n",
       "      <td>Borough of Barrington, New Jersey</td>\n",
       "      <td>Apr 11, 2017</td>\n",
       "      <td>400.00</td>\n",
       "      <td>Event</td>\n",
       "      <td>Trump Golf Club</td>\n",
       "      <td>Lease or rental of conference space or facilities</td>\n",
       "      <td>Trump National Golf Club, Philadelphia</td>\n",
       "      <td>NaN</td>\n",
       "      <td>NaN</td>\n",
       "    </tr>\n",
       "    <tr>\n",
       "      <th>12</th>\n",
       "      <td>government</td>\n",
       "      <td>Department of Commerce</td>\n",
       "      <td>Apr 11, 2017</td>\n",
       "      <td>242.00</td>\n",
       "      <td>Lodging</td>\n",
       "      <td>Trump Hotel D.C.</td>\n",
       "      <td>Hotels-Lodging</td>\n",
       "      <td>Trump International Hotel Washington, D.C.</td>\n",
       "      <td>Washington</td>\n",
       "      <td>DC</td>\n",
       "    </tr>\n",
       "    <tr>\n",
       "      <th>13</th>\n",
       "      <td>government</td>\n",
       "      <td>Department of Defense</td>\n",
       "      <td>Apr 11, 2017</td>\n",
       "      <td>171.43</td>\n",
       "      <td>Lodging</td>\n",
       "      <td>Trump Hotel Las Vegas</td>\n",
       "      <td>Hotels-Lodging</td>\n",
       "      <td>Trump International Hotel Las Vegas</td>\n",
       "      <td>Las Vegas</td>\n",
       "      <td>NV</td>\n",
       "    </tr>\n",
       "    <tr>\n",
       "      <th>14</th>\n",
       "      <td>government</td>\n",
       "      <td>Department of Commerce</td>\n",
       "      <td>Apr 11, 2017</td>\n",
       "      <td>61.40</td>\n",
       "      <td>Food</td>\n",
       "      <td>Trump Hotel D.C.</td>\n",
       "      <td>Benjamin Dinner</td>\n",
       "      <td>Trump International Hotel Washington, D.C.</td>\n",
       "      <td>Washington</td>\n",
       "      <td>DC</td>\n",
       "    </tr>\n",
       "    <tr>\n",
       "      <th>15</th>\n",
       "      <td>government</td>\n",
       "      <td>Department of Commerce</td>\n",
       "      <td>Apr 11, 2017</td>\n",
       "      <td>56.00</td>\n",
       "      <td>Other</td>\n",
       "      <td>Trump Hotel D.C.</td>\n",
       "      <td>Valet Parking</td>\n",
       "      <td>Trump International Hotel Washington, D.C.</td>\n",
       "      <td>Washington</td>\n",
       "      <td>DC</td>\n",
       "    </tr>\n",
       "    <tr>\n",
       "      <th>16</th>\n",
       "      <td>government</td>\n",
       "      <td>Department of Commerce</td>\n",
       "      <td>Apr 11, 2017</td>\n",
       "      <td>35.09</td>\n",
       "      <td>Other</td>\n",
       "      <td>Trump Hotel D.C.</td>\n",
       "      <td>DC Occupancy Sales Tax</td>\n",
       "      <td>Trump International Hotel Washington, D.C.</td>\n",
       "      <td>Washington</td>\n",
       "      <td>DC</td>\n",
       "    </tr>\n",
       "    <tr>\n",
       "      <th>17</th>\n",
       "      <td>government</td>\n",
       "      <td>Department of Commerce</td>\n",
       "      <td>Apr 11, 2017</td>\n",
       "      <td>32.00</td>\n",
       "      <td>Food</td>\n",
       "      <td>Trump Hotel D.C.</td>\n",
       "      <td>Benjamin Dinner</td>\n",
       "      <td>Trump International Hotel Washington, D.C.</td>\n",
       "      <td>Washington</td>\n",
       "      <td>DC</td>\n",
       "    </tr>\n",
       "    <tr>\n",
       "      <th>18</th>\n",
       "      <td>FEC</td>\n",
       "      <td>Republican National Committee</td>\n",
       "      <td>Apr 11, 2018</td>\n",
       "      <td>8261.10</td>\n",
       "      <td>Event</td>\n",
       "      <td>Trump Hotel D.C</td>\n",
       "      <td>CATERING/FOOD AND BEVERAGES</td>\n",
       "      <td>TRUMP INTERNATIONAL HOTEL</td>\n",
       "      <td>Washington</td>\n",
       "      <td>DC</td>\n",
       "    </tr>\n",
       "    <tr>\n",
       "      <th>19</th>\n",
       "      <td>FEC</td>\n",
       "      <td>America First Action, Inc.</td>\n",
       "      <td>Apr 11, 2018</td>\n",
       "      <td>4300.00</td>\n",
       "      <td>Event</td>\n",
       "      <td>Trump Hotel D.C.</td>\n",
       "      <td>1ST BANKCARD PMT [SB21B.18545]: EVENT EXPENSE:...</td>\n",
       "      <td>TRUMP INTERNATIONAL HOTEL WASHINGTON, D.C.</td>\n",
       "      <td>Washington</td>\n",
       "      <td>DC</td>\n",
       "    </tr>\n",
       "  </tbody>\n",
       "</table>\n",
       "</div>"
      ],
      "text/plain": [
       "          type                               source          date    amount  \\\n",
       "0          FEC  Donald J. Trump for President, Inc.   Apr 1, 2016   9000.00   \n",
       "1          FEC  Donald J. Trump for President, Inc.   Apr 1, 2016   6000.00   \n",
       "2          FEC  Donald J. Trump for President, Inc.   Apr 1, 2017  39816.67   \n",
       "3          FEC  Donald J. Trump for President, Inc.   Apr 1, 2017   1000.00   \n",
       "4   government                Department of Defense  Apr 10, 2017   1422.00   \n",
       "5          FEC  Donald J. Trump for President, Inc.  Apr 10, 2017    452.28   \n",
       "6   government               Department of Commerce  Apr 10, 2017    242.00   \n",
       "7   government               Department of Commerce  Apr 10, 2017    120.10   \n",
       "8   government               Department of Commerce  Apr 10, 2017     56.00   \n",
       "9   government               Department of Commerce  Apr 10, 2017     35.09   \n",
       "10  government               Department of Commerce  Apr 10, 2018     41.96   \n",
       "11  government    Borough of Barrington, New Jersey  Apr 11, 2017    400.00   \n",
       "12  government               Department of Commerce  Apr 11, 2017    242.00   \n",
       "13  government                Department of Defense  Apr 11, 2017    171.43   \n",
       "14  government               Department of Commerce  Apr 11, 2017     61.40   \n",
       "15  government               Department of Commerce  Apr 11, 2017     56.00   \n",
       "16  government               Department of Commerce  Apr 11, 2017     35.09   \n",
       "17  government               Department of Commerce  Apr 11, 2017     32.00   \n",
       "18         FEC        Republican National Committee  Apr 11, 2018   8261.10   \n",
       "19         FEC           America First Action, Inc.  Apr 11, 2018   4300.00   \n",
       "\n",
       "   purpose_scrubbed           property_scrubbed  \\\n",
       "0              Rent             Trump Plaza LLC   \n",
       "1              Rent               Trump CPS LLC   \n",
       "2              Rent  Trump Tower Commercial LLC   \n",
       "3              Rent       Trump Restaurants LLC   \n",
       "4           Lodging          Trump Hotel Panama   \n",
       "5           Lodging             Trump Hotel D.C   \n",
       "6           Lodging            Trump Hotel D.C.   \n",
       "7              Food            Trump Hotel D.C.   \n",
       "8             Other            Trump Hotel D.C.   \n",
       "9             Other            Trump Hotel D.C.   \n",
       "10            Other            Trump Hotel D.C.   \n",
       "11            Event             Trump Golf Club   \n",
       "12          Lodging            Trump Hotel D.C.   \n",
       "13          Lodging       Trump Hotel Las Vegas   \n",
       "14             Food            Trump Hotel D.C.   \n",
       "15            Other            Trump Hotel D.C.   \n",
       "16            Other            Trump Hotel D.C.   \n",
       "17             Food            Trump Hotel D.C.   \n",
       "18            Event             Trump Hotel D.C   \n",
       "19            Event            Trump Hotel D.C.   \n",
       "\n",
       "                                              purpose  \\\n",
       "0                                                RENT   \n",
       "1                                                RENT   \n",
       "2                                                RENT   \n",
       "3                                                RENT   \n",
       "4                                      Hotels-Lodging   \n",
       "5                 AMEX: TRAVEL: LODGING [SB23.728561]   \n",
       "6                                     Hotels-Lodging    \n",
       "7                                          BLT Dinner   \n",
       "8                                       Valet Parking   \n",
       "9                              DC Occupancy Sales Tax   \n",
       "10                          In Room Dining Late Night   \n",
       "11  Lease or rental of conference space or facilities   \n",
       "12                                    Hotels-Lodging    \n",
       "13                                     Hotels-Lodging   \n",
       "14                                    Benjamin Dinner   \n",
       "15                                      Valet Parking   \n",
       "16                             DC Occupancy Sales Tax   \n",
       "17                                    Benjamin Dinner   \n",
       "18                        CATERING/FOOD AND BEVERAGES   \n",
       "19  1ST BANKCARD PMT [SB21B.18545]: EVENT EXPENSE:...   \n",
       "\n",
       "                                      property         city   state  \n",
       "0                              TRUMP PLAZA LLC     New York      NY  \n",
       "1                                TRUMP CPS LLC     New York      NY  \n",
       "2                   TRUMP TOWER COMMERCIAL LLC   Hicksville      NY  \n",
       "3                        TRUMP RESTAURANTS LLC     New York      NY  \n",
       "4     Trump International Hotel & Tower Panama  Panama City  Panama  \n",
       "5                    TRUMP INTERNATIONAL HOTEL   Washington      DC  \n",
       "6   Trump International Hotel Washington, D.C.   Washington      DC  \n",
       "7   Trump International Hotel Washington, D.C.   Washington      DC  \n",
       "8   Trump International Hotel Washington, D.C.   Washington      DC  \n",
       "9   Trump International Hotel Washington, D.C.   Washington      DC  \n",
       "10  Trump International Hotel Washington, D.C.   Washington      DC  \n",
       "11      Trump National Golf Club, Philadelphia          NaN     NaN  \n",
       "12  Trump International Hotel Washington, D.C.   Washington      DC  \n",
       "13         Trump International Hotel Las Vegas    Las Vegas      NV  \n",
       "14  Trump International Hotel Washington, D.C.   Washington      DC  \n",
       "15  Trump International Hotel Washington, D.C.   Washington      DC  \n",
       "16  Trump International Hotel Washington, D.C.   Washington      DC  \n",
       "17  Trump International Hotel Washington, D.C.   Washington      DC  \n",
       "18                   TRUMP INTERNATIONAL HOTEL   Washington      DC  \n",
       "19  TRUMP INTERNATIONAL HOTEL WASHINGTON, D.C.   Washington      DC  "
      ]
     },
     "execution_count": 8,
     "metadata": {},
     "output_type": "execute_result"
    }
   ],
   "source": [
    "df.head(20)"
   ]
  },
  {
   "cell_type": "code",
   "execution_count": 14,
   "metadata": {
    "scrolled": true
   },
   "outputs": [
    {
     "data": {
      "text/plain": [
       "<matplotlib.axes._subplots.AxesSubplot at 0x121873810>"
      ]
     },
     "execution_count": 14,
     "metadata": {},
     "output_type": "execute_result"
    },
    {
     "data": {
      "image/png": "[encoded data removed]",
      "text/plain": [
       "<Figure size 432x288 with 1 Axes>"
      ]
     },
     "metadata": {
      "needs_background": "light"
     },
     "output_type": "display_data"
    }
   ],
   "source": [
    "sns.barplot(x='purpose_scrubbed', y='amount', data=df, ci=None, color='rebeccapurple')\n",
    "# bar is a confidence interval"
   ]
  },
  {
   "cell_type": "code",
   "execution_count": 17,
   "metadata": {},
   "outputs": [],
   "source": [
    "df_wo_travel = df.loc[df.purpose_scrubbed != 'Travel']"
   ]
  },
  {
   "cell_type": "code",
   "execution_count": 19,
   "metadata": {},
   "outputs": [
    {
     "data": {
      "text/plain": [
       "<matplotlib.axes._subplots.AxesSubplot at 0x121608610>"
      ]
     },
     "execution_count": 19,
     "metadata": {},
     "output_type": "execute_result"
    },
    {
     "data": {
      "image/png": "[encoded data removed]",
      "text/plain": [
       "<Figure size 432x288 with 1 Axes>"
      ]
     },
     "metadata": {
      "needs_background": "light"
     },
     "output_type": "display_data"
    }
   ],
   "source": [
    "sns.violinplot(x='purpose_scrubbed', y='amount', data=df_wo_travel, color='rebeccapurple')"
   ]
  },
  {
   "cell_type": "code",
   "execution_count": 20,
   "metadata": {
    "scrolled": true
   },
   "outputs": [
    {
     "data": {
      "text/plain": [
       "<matplotlib.axes._subplots.AxesSubplot at 0x121e0e050>"
      ]
     },
     "execution_count": 20,
     "metadata": {},
     "output_type": "execute_result"
    },
    {
     "data": {
      "image/png": "[encoded data removed]",
      "text/plain": [
       "<Figure size 432x288 with 1 Axes>"
      ]
     },
     "metadata": {
      "needs_background": "light"
     },
     "output_type": "display_data"
    }
   ],
   "source": [
    "sns.boxplot(x='purpose_scrubbed', y='amount', data=df_wo_travel, color='rebeccapurple')"
   ]
  },
  {
   "cell_type": "code",
   "execution_count": 22,
   "metadata": {},
   "outputs": [
    {
     "name": "stdout",
     "output_type": "stream",
     "text": [
      "<class 'pandas.core.frame.DataFrame'>\n",
      "RangeIndex: 1193 entries, 0 to 1192\n",
      "Data columns (total 10 columns):\n",
      "type                 1193 non-null object\n",
      "source               1193 non-null object\n",
      "date                 1188 non-null object\n",
      "amount               1193 non-null float64\n",
      "purpose_scrubbed     1193 non-null object\n",
      "property_scrubbed    1193 non-null object\n",
      "purpose              1182 non-null object\n",
      "property             1193 non-null object\n",
      "city                 1160 non-null object\n",
      "state                1158 non-null object\n",
      "dtypes: float64(1), object(9)\n",
      "memory usage: 93.3+ KB\n"
     ]
    }
   ],
   "source": [
    "df.info()\n",
    "# date is an object, need to change"
   ]
  },
  {
   "cell_type": "code",
   "execution_count": 24,
   "metadata": {},
   "outputs": [],
   "source": [
    "df.date = pd.to_datetime(df.date)"
   ]
  },
  {
   "cell_type": "code",
   "execution_count": 26,
   "metadata": {},
   "outputs": [
    {
     "data": {
      "text/html": [
       "<div>\n",
       "<style scoped>\n",
       "    .dataframe tbody tr th:only-of-type {\n",
       "        vertical-align: middle;\n",
       "    }\n",
       "\n",
       "    .dataframe tbody tr th {\n",
       "        vertical-align: top;\n",
       "    }\n",
       "\n",
       "    .dataframe thead th {\n",
       "        text-align: right;\n",
       "    }\n",
       "</style>\n",
       "<table border=\"1\" class=\"dataframe\">\n",
       "  <thead>\n",
       "    <tr style=\"text-align: right;\">\n",
       "      <th></th>\n",
       "      <th>type</th>\n",
       "      <th>source</th>\n",
       "      <th>date</th>\n",
       "      <th>amount</th>\n",
       "      <th>purpose_scrubbed</th>\n",
       "      <th>property_scrubbed</th>\n",
       "      <th>purpose</th>\n",
       "      <th>property</th>\n",
       "      <th>city</th>\n",
       "      <th>state</th>\n",
       "    </tr>\n",
       "  </thead>\n",
       "  <tbody>\n",
       "    <tr>\n",
       "      <th>0</th>\n",
       "      <td>FEC</td>\n",
       "      <td>Donald J. Trump for President, Inc.</td>\n",
       "      <td>2016-04-01</td>\n",
       "      <td>9000.00</td>\n",
       "      <td>Rent</td>\n",
       "      <td>Trump Plaza LLC</td>\n",
       "      <td>RENT</td>\n",
       "      <td>TRUMP PLAZA LLC</td>\n",
       "      <td>New York</td>\n",
       "      <td>NY</td>\n",
       "    </tr>\n",
       "    <tr>\n",
       "      <th>1</th>\n",
       "      <td>FEC</td>\n",
       "      <td>Donald J. Trump for President, Inc.</td>\n",
       "      <td>2016-04-01</td>\n",
       "      <td>6000.00</td>\n",
       "      <td>Rent</td>\n",
       "      <td>Trump CPS LLC</td>\n",
       "      <td>RENT</td>\n",
       "      <td>TRUMP CPS LLC</td>\n",
       "      <td>New York</td>\n",
       "      <td>NY</td>\n",
       "    </tr>\n",
       "    <tr>\n",
       "      <th>2</th>\n",
       "      <td>FEC</td>\n",
       "      <td>Donald J. Trump for President, Inc.</td>\n",
       "      <td>2017-04-01</td>\n",
       "      <td>39816.67</td>\n",
       "      <td>Rent</td>\n",
       "      <td>Trump Tower Commercial LLC</td>\n",
       "      <td>RENT</td>\n",
       "      <td>TRUMP TOWER COMMERCIAL LLC</td>\n",
       "      <td>Hicksville</td>\n",
       "      <td>NY</td>\n",
       "    </tr>\n",
       "    <tr>\n",
       "      <th>3</th>\n",
       "      <td>FEC</td>\n",
       "      <td>Donald J. Trump for President, Inc.</td>\n",
       "      <td>2017-04-01</td>\n",
       "      <td>1000.00</td>\n",
       "      <td>Rent</td>\n",
       "      <td>Trump Restaurants LLC</td>\n",
       "      <td>RENT</td>\n",
       "      <td>TRUMP RESTAURANTS LLC</td>\n",
       "      <td>New York</td>\n",
       "      <td>NY</td>\n",
       "    </tr>\n",
       "    <tr>\n",
       "      <th>4</th>\n",
       "      <td>government</td>\n",
       "      <td>Department of Defense</td>\n",
       "      <td>2017-04-10</td>\n",
       "      <td>1422.00</td>\n",
       "      <td>Lodging</td>\n",
       "      <td>Trump Hotel Panama</td>\n",
       "      <td>Hotels-Lodging</td>\n",
       "      <td>Trump International Hotel &amp; Tower Panama</td>\n",
       "      <td>Panama City</td>\n",
       "      <td>Panama</td>\n",
       "    </tr>\n",
       "  </tbody>\n",
       "</table>\n",
       "</div>"
      ],
      "text/plain": [
       "         type                               source       date    amount  \\\n",
       "0         FEC  Donald J. Trump for President, Inc. 2016-04-01   9000.00   \n",
       "1         FEC  Donald J. Trump for President, Inc. 2016-04-01   6000.00   \n",
       "2         FEC  Donald J. Trump for President, Inc. 2017-04-01  39816.67   \n",
       "3         FEC  Donald J. Trump for President, Inc. 2017-04-01   1000.00   \n",
       "4  government                Department of Defense 2017-04-10   1422.00   \n",
       "\n",
       "  purpose_scrubbed           property_scrubbed         purpose  \\\n",
       "0             Rent             Trump Plaza LLC            RENT   \n",
       "1             Rent               Trump CPS LLC            RENT   \n",
       "2             Rent  Trump Tower Commercial LLC            RENT   \n",
       "3             Rent       Trump Restaurants LLC            RENT   \n",
       "4          Lodging          Trump Hotel Panama  Hotels-Lodging   \n",
       "\n",
       "                                   property         city   state  \n",
       "0                           TRUMP PLAZA LLC     New York      NY  \n",
       "1                             TRUMP CPS LLC     New York      NY  \n",
       "2                TRUMP TOWER COMMERCIAL LLC   Hicksville      NY  \n",
       "3                     TRUMP RESTAURANTS LLC     New York      NY  \n",
       "4  Trump International Hotel & Tower Panama  Panama City  Panama  "
      ]
     },
     "execution_count": 26,
     "metadata": {},
     "output_type": "execute_result"
    }
   ],
   "source": [
    "df.head()"
   ]
  },
  {
   "cell_type": "code",
   "execution_count": 36,
   "metadata": {},
   "outputs": [
    {
     "data": {
      "text/plain": [
       "[(735599.0, 737060.0)]"
      ]
     },
     "execution_count": 36,
     "metadata": {},
     "output_type": "execute_result"
    },
    {
     "data": {
      "image/png": "[encoded data removed]",
      "text/plain": [
       "<Figure size 432x288 with 1 Axes>"
      ]
     },
     "metadata": {
      "needs_background": "light"
     },
     "output_type": "display_data"
    }
   ],
   "source": [
    "sns.set_palette('husl')\n",
    "g = sns.scatterplot(x='date', y='amount', data=df, hue = 'purpose_scrubbed')\n",
    "g.set(xlim=('2015-01-01', '2019-01-01'))"
   ]
  },
  {
   "cell_type": "code",
   "execution_count": null,
   "metadata": {},
   "outputs": [],
   "source": []
  },
  {
   "cell_type": "markdown",
   "metadata": {},
   "source": [
    "## Reflection:\n",
    "\n",
    "- What worked from this training? \n",
    "- What can you apply moving forward?\n",
    "- What's one concept you would like to practice more?"
   ]
  },
  {
   "cell_type": "code",
   "execution_count": null,
   "metadata": {},
   "outputs": [],
   "source": []
  },
  {
   "cell_type": "markdown",
   "metadata": {},
   "source": [
    "#### For extra fun:\n",
    "[visualization challenges](http://www.storytellingwithdata.com/blog/2019/3/1/swdchallenge-visualize-this-data)\n",
    "\n",
    "[seaborn cheatsheet](https://s3.amazonaws.com/assets.datacamp.com/blog_assets/Python_Seaborn_Cheat_Sheet.pdf)"
   ]
  }
 ],
 "metadata": {
  "kernelspec": {
   "display_name": "Python 3",
   "language": "python",
   "name": "python3"
  },
  "language_info": {
   "codemirror_mode": {
    "name": "ipython",
    "version": 3
   },
   "file_extension": ".py",
   "mimetype": "text/x-python",
   "name": "python",
   "nbconvert_exporter": "python",
   "pygments_lexer": "ipython3",
   "version": "3.7.5"
  }
 },
 "nbformat": 4,
 "nbformat_minor": 2
}
